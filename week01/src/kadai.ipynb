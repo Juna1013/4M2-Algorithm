{
  "cells": [
    {
      "cell_type": "markdown",
      "metadata": {
        "id": "MuoxZGQyaLrO"
      },
      "source": [
        "# 課題"
      ]
    },
    {
      "cell_type": "markdown",
      "metadata": {
        "id": "ZikDMpboadNd"
      },
      "source": [
        "## 課題１\n",
        "\n",
        "```\n",
        "アルゴリズムとデータ構造という科目のテスト点数が60点以上であれば、\n",
        "合格。そうでなければ不合格と表示するアルゴリズムを考えてみよう\n",
        "\n",
        "\n",
        "フローチャートとソースコードと実行結果を提出すること\n",
        "```\n",
        "\n"
      ]
    },
    {
      "cell_type": "markdown",
      "metadata": {
        "id": "UbDLJS6opq1b"
      },
      "source": []
    },
    {
      "cell_type": "markdown",
      "metadata": {
        "id": "qjc1pKdLkd0B"
      },
      "source": [
        "### フローチャート\n"
      ]
    },
    {
      "cell_type": "markdown",
      "metadata": {
        "id": "FNPyGoFbke3K"
      },
      "source": [
        "### ソースコード"
      ]
    },
    {
      "cell_type": "code",
      "execution_count": null,
      "metadata": {
        "colab": {
          "base_uri": "https://localhost:8080/"
        },
        "id": "GidcMjK6ke-h",
        "outputId": "f00ab6bc-7bc6-467c-d4e9-e9564e6362c9"
      },
      "outputs": [
        {
          "name": "stdout",
          "output_type": "stream",
          "text": [
            "Overwriting hello.c\n"
          ]
        }
      ],
      "source": [
        "%%file hello.c\n",
        "#include <stdio.h>\n",
        "#include <stdlib.h>\n",
        "\n",
        "int main(int argc, char *argv[]) {\n",
        "    int a = atoi(argv[1]);  // コマンドライン引数を整数に変換\n",
        "    printf(\"入力された点数は %d\\n\", a);\n",
        "\n",
        "    if (a >= 60) {\n",
        "        printf(\"合格\\n\");\n",
        "    } else {\n",
        "        printf(\"不合格\\n\");\n",
        "    }\n",
        "\n",
        "    return 0;\n",
        "}\n"
      ]
    },
    {
      "cell_type": "markdown",
      "metadata": {
        "id": "JGy5zzUmkeBW"
      },
      "source": [
        "### 実行結果"
      ]
    },
    {
      "cell_type": "code",
      "execution_count": null,
      "metadata": {
        "colab": {
          "base_uri": "https://localhost:8080/"
        },
        "id": "ImKtJjC1keJI",
        "outputId": "273a76a5-bc7a-47f6-fcfd-5258b323a751"
      },
      "outputs": [
        {
          "name": "stdout",
          "output_type": "stream",
          "text": [
            "入力された点数は 60\n",
            "合格\n"
          ]
        }
      ],
      "source": [
        "!gcc hello.c -o hello && ./hello 60"
      ]
    },
    {
      "cell_type": "markdown",
      "metadata": {
        "id": "8htOJ3jtnvIb"
      },
      "source": [
        "## 課題2\n",
        "\n",
        "```\n",
        "変数ｎに値を入力して,高さがnの三角形を表示するアルゴリズムを考えよ\n",
        "なお、”＊”を利用して三角形を描画すること\n",
        "nの入力方法は、コマンドライン引数を利用すること\n",
        "nは５としてください。\n",
        "!gcc hello.c -o hello && ./hello 50　←　この例だと50がコマンドライン引数\n",
        "\n",
        "フローチャートとソースコードと実行結果を提出すること\n",
        "```\n",
        "\n"
      ]
    },
    {
      "cell_type": "markdown",
      "metadata": {
        "id": "TmRlS81mnvIb"
      },
      "source": [
        "### フローチャート\n"
      ]
    },
    {
      "cell_type": "markdown",
      "metadata": {
        "id": "JFzJ2_trnvIf"
      },
      "source": [
        "### ソースコード"
      ]
    },
    {
      "cell_type": "code",
      "execution_count": null,
      "metadata": {
        "colab": {
          "base_uri": "https://localhost:8080/"
        },
        "id": "uOQa4zpanvIf",
        "outputId": "3e6c1923-b522-4aa7-80f9-cdd5fd6685ed"
      },
      "outputs": [
        {
          "name": "stdout",
          "output_type": "stream",
          "text": [
            "Overwriting tekitou1.c\n"
          ]
        }
      ],
      "source": [
        "%%file tekitou1.c\n",
        "#include <stdio.h>\n",
        "#include <stdlib.h>\n",
        "\n",
        "int main(int argc, char *argv[]) {\n",
        "    if (argc < 2) {\n",
        "        printf(\"使い方: ./hello <高さ>\\n\");\n",
        "        return 1;\n",
        "    }\n",
        "\n",
        "    int n = atoi(argv[1]);\n",
        "\n",
        "    for (int i = 1; i <= n; i++) {\n",
        "        for (int j = 0; j < i; j++) {\n",
        "            printf(\"*\");\n",
        "        }\n",
        "        printf(\"\\n\");\n",
        "    }\n",
        "\n",
        "    return 0;\n",
        "}\n"
      ]
    },
    {
      "cell_type": "markdown",
      "metadata": {
        "id": "8w_cgS0qnvIg"
      },
      "source": [
        "### 実行結果"
      ]
    },
    {
      "cell_type": "code",
      "execution_count": null,
      "metadata": {
        "colab": {
          "base_uri": "https://localhost:8080/"
        },
        "id": "L0DfCQH3nvIg",
        "outputId": "a85aa8e0-505d-42e1-a570-97540ffe2da2"
      },
      "outputs": [
        {
          "name": "stdout",
          "output_type": "stream",
          "text": [
            "*\n",
            "**\n",
            "***\n",
            "****\n",
            "*****\n",
            "******\n",
            "*******\n",
            "********\n",
            "*********\n",
            "**********\n",
            "***********\n",
            "************\n",
            "*************\n",
            "**************\n",
            "***************\n",
            "****************\n",
            "*****************\n",
            "******************\n",
            "*******************\n",
            "********************\n",
            "*********************\n",
            "**********************\n",
            "***********************\n",
            "************************\n",
            "*************************\n",
            "**************************\n",
            "***************************\n",
            "****************************\n",
            "*****************************\n",
            "******************************\n",
            "*******************************\n",
            "********************************\n",
            "*********************************\n",
            "**********************************\n",
            "***********************************\n",
            "************************************\n",
            "*************************************\n",
            "**************************************\n",
            "***************************************\n",
            "****************************************\n",
            "*****************************************\n",
            "******************************************\n",
            "*******************************************\n",
            "********************************************\n",
            "*********************************************\n",
            "**********************************************\n",
            "***********************************************\n",
            "************************************************\n",
            "*************************************************\n",
            "**************************************************\n"
          ]
        }
      ],
      "source": [
        "!gcc tekitou1.c -o tekitou1 && ./tekitou1 50"
      ]
    },
    {
      "cell_type": "markdown",
      "metadata": {
        "id": "3SA_DsdwoaX-"
      },
      "source": [
        "## 課題3\n",
        "\n",
        "```\n",
        "与えられた整数が２の倍数かどうか調べ、その結果を表示するアルゴリズムを考えよ\n",
        "整数の与え方は、コマンドライン引数を利用すること\n",
        "与えられた整数とその結果がわかるように表示してください\n",
        "!gcc hello.c -o hello && ./hello 50　←　この例だと50がコマンドライン引数\n",
        "\n",
        "フローチャートとソースコードと実行結果を提出すること\n",
        "```\n",
        "\n"
      ]
    },
    {
      "cell_type": "markdown",
      "metadata": {
        "id": "dsd6C14loaYA"
      },
      "source": [
        "### フローチャート\n"
      ]
    },
    {
      "cell_type": "markdown",
      "metadata": {
        "id": "uynqDdU2oaYB"
      },
      "source": [
        "### ソースコード"
      ]
    },
    {
      "cell_type": "code",
      "execution_count": null,
      "metadata": {
        "colab": {
          "base_uri": "https://localhost:8080/"
        },
        "id": "mvgg5QSQoaYC",
        "outputId": "66235ab8-20c3-4424-8b86-adce1f57ae70"
      },
      "outputs": [
        {
          "name": "stdout",
          "output_type": "stream",
          "text": [
            "Overwriting hello.c\n"
          ]
        }
      ],
      "source": [
        "%%file hello.c\n",
        "#include <stdio.h>\n",
        "#include <stdlib.h>\n",
        "\n",
        "int main(int argc, char *argv[]) {\n",
        "    int N = atoi(argv[1]);\n",
        "\n",
        "    printf(\"入力された整数: %d\\n\", N);\n",
        "\n",
        "    if (N % 2 == 0) {\n",
        "        printf(\"2の倍数です\\n\");\n",
        "    } else {\n",
        "        printf(\"2の倍数ではありません\\n\");\n",
        "    }\n",
        "\n",
        "    return 0;\n",
        "}\n"
      ]
    },
    {
      "cell_type": "markdown",
      "metadata": {
        "id": "CFRyIbGXoaYD"
      },
      "source": [
        "### 実行結果"
      ]
    },
    {
      "cell_type": "code",
      "execution_count": null,
      "metadata": {
        "colab": {
          "base_uri": "https://localhost:8080/"
        },
        "id": "lWenuWSBm8qC",
        "outputId": "26dd60e1-e16f-45d3-822a-54b5df824142"
      },
      "outputs": [
        {
          "name": "stdout",
          "output_type": "stream",
          "text": [
            "入力された整数: 50\n",
            "2の倍数です\n"
          ]
        }
      ],
      "source": [
        "!gcc hello.c -o hello && ./hello 50"
      ]
    },
    {
      "cell_type": "markdown",
      "metadata": {
        "id": "mOWvZcLkohJS"
      },
      "source": [
        "## 課題4\n",
        "\n",
        "```\n",
        "与えらえた整数が５の倍数かどうかを調べ、その結果を表示するアルゴリズムを考えよ\n",
        "整数の与え方は、コマンドライン引数を利用すること\n",
        "与えられた整数とその結果がわかるように表示してください\n",
        "!gcc hello.c -o hello && ./hello 50　←　この例だと50がコマンドライン引数\n",
        "\n",
        "フローチャートとソースコードと実行結果を提出すること\n",
        "```\n",
        "\n"
      ]
    },
    {
      "cell_type": "markdown",
      "metadata": {
        "id": "L7wgjMupohJT"
      },
      "source": [
        "### フローチャート\n"
      ]
    },
    {
      "cell_type": "markdown",
      "metadata": {
        "id": "fOp8w-WjohJU"
      },
      "source": []
    },
    {
      "cell_type": "markdown",
      "metadata": {
        "id": "qzHe4NcfohJU"
      },
      "source": [
        "### ソースコード"
      ]
    },
    {
      "cell_type": "code",
      "execution_count": null,
      "metadata": {
        "colab": {
          "base_uri": "https://localhost:8080/"
        },
        "id": "V1njBU_cohJV",
        "outputId": "a42ec360-d3d0-479e-f44f-c8392f4a8a23"
      },
      "outputs": [
        {
          "name": "stdout",
          "output_type": "stream",
          "text": [
            "Overwriting hello.c\n"
          ]
        }
      ],
      "source": [
        "%%file hello.c\n",
        "#include <stdio.h>\n",
        "#include <stdlib.h>\n",
        "\n",
        "int main(int argc, char *argv[]) {\n",
        "    int N = atoi(argv[1]);\n",
        "\n",
        "    printf(\"入力された整数: %d\\n\", N);\n",
        "\n",
        "    if (N % 5 == 0) {\n",
        "        printf(\"5の倍数です\\n\");\n",
        "    } else {\n",
        "        printf(\"5の倍数ではありません\\n\");\n",
        "    }\n",
        "\n",
        "    return 0;\n",
        "}\n"
      ]
    },
    {
      "cell_type": "markdown",
      "metadata": {
        "id": "RzIgoTDhohJW"
      },
      "source": [
        "### 実行結果"
      ]
    },
    {
      "cell_type": "code",
      "execution_count": null,
      "metadata": {
        "colab": {
          "base_uri": "https://localhost:8080/"
        },
        "id": "9y8at5kIwRPE",
        "outputId": "552e54c6-10ff-4278-cb0b-9d1ba72782fe"
      },
      "outputs": [
        {
          "name": "stdout",
          "output_type": "stream",
          "text": [
            "入力された整数: 50\n",
            "5の倍数です\n"
          ]
        }
      ],
      "source": [
        "!gcc hello.c -o hello && ./hello 50"
      ]
    },
    {
      "cell_type": "markdown",
      "metadata": {
        "id": "sheeiNEuon_y"
      },
      "source": [
        "## 課題5\n",
        "\n",
        "```\n",
        "平面上の2点の座標が与えられた時、それらの間のユークリッド距離を求め、表示するアルゴリズムを考えよ。今回与える2点は、(0,0)と（1,1）とする\n",
        "座標の与え方は、以下のソースコード（参考）を参考にすること\n",
        "\n",
        "\n",
        "フローチャートとソースコードと実行結果を提出すること\n",
        "```\n",
        "\n",
        "```c\n",
        "#include <stdio.h>\n",
        "void main(){\n",
        "  double x_1=0.0;\n",
        "  double y_1=0.0;\n",
        "  double x_2=1.0;\n",
        "  double y_2=1.0;\n",
        "\n",
        "  //ここにユークリッド距離を求める計算を記載\n",
        "\n",
        "  //ユークリッド距離を表示する\n",
        "}\n",
        "```\n",
        "\n"
      ]
    },
    {
      "cell_type": "markdown",
      "metadata": {
        "id": "YwRxCwP0on_z"
      },
      "source": [
        "### フローチャート\n"
      ]
    },
    {
      "cell_type": "markdown",
      "metadata": {
        "id": "FdbCNxVgon_z"
      },
      "source": []
    },
    {
      "cell_type": "markdown",
      "metadata": {
        "id": "i2s1PKX4on_z"
      },
      "source": [
        "### ソースコード"
      ]
    },
    {
      "cell_type": "code",
      "execution_count": null,
      "metadata": {
        "colab": {
          "base_uri": "https://localhost:8080/"
        },
        "id": "8ErzxxBxon_z",
        "outputId": "55b8c58d-c708-407a-ff23-e753c8c696a3"
      },
      "outputs": [
        {
          "name": "stdout",
          "output_type": "stream",
          "text": [
            "Overwriting hello.c\n"
          ]
        }
      ],
      "source": [
        "%%file hello.c\n",
        "#include <stdio.h>\n",
        "#include <math.h>\n",
        "\n",
        "int main(void) {\n",
        "    double x_1 = 0.0;\n",
        "    double y_1 = 0.0;\n",
        "    double x_2 = 1.0;\n",
        "    double y_2 = 1.0;\n",
        "\n",
        "    // ユークリッド距離を計算\n",
        "    double dx = x_2 - x_1;\n",
        "    double dy = y_2 - y_1;\n",
        "    double distance = sqrt(dx * dx + dy * dy);\n",
        "\n",
        "    // ユークリッド距離を表示\n",
        "    printf(\"2点の距離は: %lf\\n\", distance);\n",
        "\n",
        "    return 0;\n",
        "}\n"
      ]
    },
    {
      "cell_type": "markdown",
      "metadata": {
        "id": "Xdi0VUmKon_z"
      },
      "source": [
        "### 実行結果"
      ]
    },
    {
      "cell_type": "code",
      "execution_count": null,
      "metadata": {
        "colab": {
          "base_uri": "https://localhost:8080/"
        },
        "id": "QzUORIqpf9Aw",
        "outputId": "c847778b-29da-4cc9-8b2c-7fc32ba3e975"
      },
      "outputs": [
        {
          "name": "stdout",
          "output_type": "stream",
          "text": [
            "2点の距離は: 1.414214\n"
          ]
        }
      ],
      "source": [
        "!gcc hello.c -o hello -lm && ./hello"
      ]
    },
    {
      "cell_type": "markdown",
      "metadata": {
        "id": "dYENfig9qDli"
      },
      "source": [
        "## 課題6\n",
        "\n",
        "```\n",
        "変数ｎに値を入力して,高さがnの二等辺三角形を表示するアルゴリズムを考えよ\n",
        "なお、”*”（アスタリスク）と\" \"(スペース）を利用して三角形を描画すること\n",
        "nは6とし、コマンドライン引数で与えることとする。\n",
        "!gcc hello.c -o hello && ./hello 50　←　この例だと50がコマンドライン引数\n",
        "\n",
        "フローチャートとソースコードと実行結果を提出すること\n",
        "```\n",
        "\n",
        "```\n",
        "\n",
        "ご参考　nは3の時の出力結果\n",
        "  *\n",
        " ***\n",
        "*****\n",
        "\n",
        "\n",
        "```\n",
        "\n"
      ]
    },
    {
      "cell_type": "markdown",
      "metadata": {
        "id": "8MM0EKS5qDlj"
      },
      "source": [
        "### フローチャート\n"
      ]
    },
    {
      "cell_type": "markdown",
      "metadata": {
        "id": "dQQDA27MqDlj"
      },
      "source": []
    },
    {
      "cell_type": "markdown",
      "metadata": {
        "id": "7n28QxyiqDlk"
      },
      "source": [
        "### ソースコード"
      ]
    },
    {
      "cell_type": "code",
      "execution_count": null,
      "metadata": {
        "colab": {
          "base_uri": "https://localhost:8080/"
        },
        "id": "enahmdPtqDlk",
        "outputId": "42f75c94-ff65-4927-8a42-a330d85dbe1d"
      },
      "outputs": [
        {
          "name": "stdout",
          "output_type": "stream",
          "text": [
            "Overwriting hello.c\n"
          ]
        }
      ],
      "source": [
        "%%file hello.c\n",
        "#include <stdio.h>\n",
        "#include <stdlib.h>\n",
        "\n",
        "int main(int argc, char *argv[]) {\n",
        "    int N = atoi(argv[1]);  // コマンドライン引数を整数に変換\n",
        "\n",
        "    for (int i = 1; i <= N; i++) {\n",
        "        // スペースを出力\n",
        "        for (int j = 0; j < N - i; j++) {\n",
        "            printf(\" \");\n",
        "        }\n",
        "        // アスタリスクを出力\n",
        "        for (int j = 0; j < 2 * i - 1; j++) {\n",
        "            printf(\"*\");\n",
        "        }\n",
        "        printf(\"\\n\");  // 行末で改行\n",
        "    }\n",
        "\n",
        "    return 0;\n",
        "}\n"
      ]
    },
    {
      "cell_type": "markdown",
      "metadata": {
        "id": "wU9tnykAqDlk"
      },
      "source": [
        "### 実行結果"
      ]
    },
    {
      "cell_type": "code",
      "execution_count": null,
      "metadata": {
        "colab": {
          "base_uri": "https://localhost:8080/"
        },
        "id": "AD0l4Ghtg6lW",
        "outputId": "ac31519f-335b-446d-d4e5-8037deaeaad2"
      },
      "outputs": [
        {
          "name": "stdout",
          "output_type": "stream",
          "text": [
            "                                                 *\n",
            "                                                ***\n",
            "                                               *****\n",
            "                                              *******\n",
            "                                             *********\n",
            "                                            ***********\n",
            "                                           *************\n",
            "                                          ***************\n",
            "                                         *****************\n",
            "                                        *******************\n",
            "                                       *********************\n",
            "                                      ***********************\n",
            "                                     *************************\n",
            "                                    ***************************\n",
            "                                   *****************************\n",
            "                                  *******************************\n",
            "                                 *********************************\n",
            "                                ***********************************\n",
            "                               *************************************\n",
            "                              ***************************************\n",
            "                             *****************************************\n",
            "                            *******************************************\n",
            "                           *********************************************\n",
            "                          ***********************************************\n",
            "                         *************************************************\n",
            "                        ***************************************************\n",
            "                       *****************************************************\n",
            "                      *******************************************************\n",
            "                     *********************************************************\n",
            "                    ***********************************************************\n",
            "                   *************************************************************\n",
            "                  ***************************************************************\n",
            "                 *****************************************************************\n",
            "                *******************************************************************\n",
            "               *********************************************************************\n",
            "              ***********************************************************************\n",
            "             *************************************************************************\n",
            "            ***************************************************************************\n",
            "           *****************************************************************************\n",
            "          *******************************************************************************\n",
            "         *********************************************************************************\n",
            "        ***********************************************************************************\n",
            "       *************************************************************************************\n",
            "      ***************************************************************************************\n",
            "     *****************************************************************************************\n",
            "    *******************************************************************************************\n",
            "   *********************************************************************************************\n",
            "  ***********************************************************************************************\n",
            " *************************************************************************************************\n",
            "***************************************************************************************************\n"
          ]
        }
      ],
      "source": [
        "!gcc hello.c -o hello -lm && ./hello 50"
      ]
    },
    {
      "cell_type": "markdown",
      "metadata": {
        "id": "ZQqmBQLArcvC"
      },
      "source": [
        "## 課題7\n",
        "\n",
        "```\n",
        "以下の与えられた文字列中で、\"a\"が何番目に存在するか確認し、その結果を表示するアルゴリズムを考えよ\n",
        "\n",
        "与える文字列　ibakosen\n",
        "\n",
        "文字列の与え方は、コマンドライン引数を利用すること\n",
        "!gcc hello.c -o hello && ./hello ibakosen　←　この例だとibakosenがコマンドライン引数\n",
        "\n",
        "フローチャートとソースコードと実行結果を提出すること\n",
        "```\n",
        "\n"
      ]
    },
    {
      "cell_type": "markdown",
      "metadata": {
        "id": "NgHEQ_G0rcvD"
      },
      "source": [
        "### フローチャート\n"
      ]
    },
    {
      "cell_type": "markdown",
      "metadata": {
        "id": "SzvZLh_RrcvD"
      },
      "source": []
    },
    {
      "cell_type": "markdown",
      "metadata": {
        "id": "XB3qOjI4rcvD"
      },
      "source": [
        "### ソースコード"
      ]
    },
    {
      "cell_type": "code",
      "execution_count": null,
      "metadata": {
        "colab": {
          "base_uri": "https://localhost:8080/"
        },
        "id": "E8eBMIy8rcvD",
        "outputId": "5d0015d1-3a52-4e15-9283-55d317414150"
      },
      "outputs": [
        {
          "name": "stdout",
          "output_type": "stream",
          "text": [
            "Overwriting hello.c\n"
          ]
        }
      ],
      "source": [
        "%%file hello.c\n",
        "#include <stdio.h>\n",
        "#include <stdlib.h>\n",
        "#include <string.h>\n",
        "\n",
        "void main(int argc, char *argv[])\n",
        "{\n",
        "    if (argc != 2) {\n",
        "        printf(\"使い方: %s 文字列\\n\", argv[0]);\n",
        "        return;\n",
        "    }\n",
        "\n",
        "    char* inputstr = argv[1];\n",
        "    int strlength = strlen(inputstr);\n",
        "\n",
        "    printf(\"入力された文字列は %s\\n\", inputstr);\n",
        "    printf(\"入力された文字列の長さは %d\\n\", strlength);\n",
        "\n",
        "    for (int i = 0; i < strlength; i++) {\n",
        "        if (inputstr[i] == 'a') {\n",
        "            printf(\"最初の 'a' は %d 文字目にあります\\n\", i + 1);\n",
        "            return;\n",
        "        }\n",
        "    }\n",
        "\n",
        "    printf(\"'a' は見つかりませんでした\\n\");\n",
        "}\n"
      ]
    },
    {
      "cell_type": "markdown",
      "metadata": {
        "id": "J5RUIuOFrcvE"
      },
      "source": [
        "### 実行結果"
      ]
    },
    {
      "cell_type": "code",
      "execution_count": null,
      "metadata": {
        "colab": {
          "base_uri": "https://localhost:8080/"
        },
        "id": "7lWijIeLrcvE",
        "outputId": "d5b8fed5-4fad-4f25-b05b-3f41f1e9dbff"
      },
      "outputs": [
        {
          "name": "stdout",
          "output_type": "stream",
          "text": [
            "入力された文字列は ibakosen\n",
            "入力された文字列の長さは 8\n",
            "最初の 'a' は 3 文字目にあります\n"
          ]
        }
      ],
      "source": [
        "!gcc hello.c -o hello && ./hello ibakosen"
      ]
    },
    {
      "cell_type": "markdown",
      "metadata": {
        "id": "7sfyFsfItIwO"
      },
      "source": [
        "## 課題8\n",
        "\n",
        "```\n",
        "１から10までの数値をすべて足し合わせ、その結果を表示するアルゴリズムを考えよ\n",
        "\n",
        "フローチャートとソースコードと実行結果を提出すること\n",
        "```\n",
        "\n"
      ]
    },
    {
      "cell_type": "markdown",
      "metadata": {
        "id": "aseM0wZetIwR"
      },
      "source": [
        "### フローチャート\n"
      ]
    },
    {
      "cell_type": "markdown",
      "metadata": {
        "id": "gXlaKTRZtIwR"
      },
      "source": []
    },
    {
      "cell_type": "markdown",
      "metadata": {
        "id": "Ccy5DypVtIwS"
      },
      "source": [
        "### ソースコード"
      ]
    },
    {
      "cell_type": "code",
      "execution_count": null,
      "metadata": {
        "colab": {
          "base_uri": "https://localhost:8080/"
        },
        "id": "Zqbqao-1tIwS",
        "outputId": "a258413c-e78d-41af-a207-4a0be9574abb"
      },
      "outputs": [
        {
          "name": "stdout",
          "output_type": "stream",
          "text": [
            "Overwriting hello.c\n"
          ]
        }
      ],
      "source": [
        "%%file hello.c\n",
        "#include <stdio.h>\n",
        "\n",
        "int main(void) {\n",
        "    int cnt = 0;\n",
        "    for (int i = 1; i <= 10; i++) {\n",
        "        cnt += i;\n",
        "    }\n",
        "    printf(\"%d\\n\", cnt);\n",
        "    return 0;\n",
        "}\n"
      ]
    },
    {
      "cell_type": "markdown",
      "metadata": {
        "id": "PAXv7E6wtIwT"
      },
      "source": [
        "### 実行結果"
      ]
    },
    {
      "cell_type": "code",
      "execution_count": null,
      "metadata": {
        "colab": {
          "base_uri": "https://localhost:8080/"
        },
        "id": "QVGcXfPBp32v",
        "outputId": "78693f47-581d-4b2b-c89a-81e95ec4233c"
      },
      "outputs": [
        {
          "name": "stdout",
          "output_type": "stream",
          "text": [
            "55\n"
          ]
        }
      ],
      "source": [
        "!gcc hello.c -o hello && ./hello"
      ]
    }
  ],
  "metadata": {
    "colab": {
      "provenance": []
    },
    "kernelspec": {
      "display_name": "Python 3",
      "name": "python3"
    },
    "language_info": {
      "name": "python"
    }
  },
  "nbformat": 4,
  "nbformat_minor": 0
}
